{
 "cells": [
  {
   "cell_type": "markdown",
   "metadata": {},
   "source": [
    "感知机算法用于计算得到划分可二分数据集的超平面S。\n",
    "\n",
    "我们定义优化函数为损失函数：\n",
    "L=误分类点到超平面S的距离和\n",
    "\n",
    "\\\\(d = \\frac{1}{{\\left\\| w \\right\\|}}|w \\bullet {x_i} + b|\\\\)\n",
    "\n",
    "\\\\(L =  - \\sum\\limits_N {{y_i}} (w \\bullet {x_i} + b)\\\\)\n",
    "\n",
    "采用随机梯度下降算法\n",
    "\n",
    "\\\\(\\frac{{dL}}{{dw}} =  - \\sum\\limits_N {{y_i}} {x_i}\\\\)\n",
    "\n",
    "故对于每一个误分类点\n",
    "\n",
    "\\\\(w = w + \\eta {y_i}{x_i}\\\\)\n"
   ]
  },
  {
   "cell_type": "markdown",
   "metadata": {},
   "source": [
    "算法流程：\n",
    "输入：w, b；  \n",
    "训练：f(x)=sign(wx+b)\n",
    "1. 选取初值w0, b0\n",
    "2. 随机选取数据(xi, yi)\n",
    "3. 如果为误分类点，则更新"
   ]
  },
  {
   "cell_type": "markdown",
   "metadata": {},
   "source": [
    "预测：输入：x\n",
    "输出：y=sign(wx+b)"
   ]
  },
  {
   "cell_type": "code",
   "execution_count": 87,
   "metadata": {
    "collapsed": true
   },
   "outputs": [],
   "source": [
    "import numpy as np\n",
    "import matplotlib.pyplot as plt\n",
    "\n",
    "np.random.seed(1)"
   ]
  },
  {
   "cell_type": "code",
   "execution_count": 88,
   "metadata": {
    "collapsed": true
   },
   "outputs": [],
   "source": [
    "def sign(x):\n",
    "    if x > 0:\n",
    "        return 1;\n",
    "    return -1"
   ]
  },
  {
   "cell_type": "code",
   "execution_count": 121,
   "metadata": {},
   "outputs": [],
   "source": [
    "def svg(x, y, w, b, learning_rate):\n",
    "    i = np.random.randint(0, x.shape[0])\n",
    "#     print(\"in svg\")\n",
    "#     print(i)\n",
    "#     print(x[i])\n",
    "#     print(y[i])\n",
    "#     print(np.dot(w, x[i]))\n",
    "#     print(y[i] * (np.dot(w, x[i]) + b))\n",
    "    if y[i] * (np.dot(w, x[i]) + b) <= 0:\n",
    "        w = w + learning_rate * x[i] * y[i]\n",
    "        b = b + learning_rate * y[i]\n",
    "    params = {'w':w, 'b':b}\n",
    "    return params"
   ]
  },
  {
   "cell_type": "code",
   "execution_count": 122,
   "metadata": {
    "collapsed": true
   },
   "outputs": [],
   "source": [
    "def predict(x, w, b):\n",
    "    return sign(np.dot + b)"
   ]
  },
  {
   "cell_type": "code",
   "execution_count": 123,
   "metadata": {},
   "outputs": [
    {
     "name": "stdout",
     "output_type": "stream",
     "text": [
      "[[-0.3 -0.1]]\n",
      "0.1\n"
     ]
    }
   ],
   "source": [
    "w = np.zeros((1, 2))\n",
    "b = 0\n",
    "x_train = np.array([[-1, 1], [-2, 0], [-1, 0], [-0.5, 0.5], [0, 0.5],[1, 3], [2, 3], [1, 1], [1, -0.5], [1, 0]])\n",
    "y_train = np.array([1, 1, 1, 1, 1, -1, -1, -1, -1, -1])\n",
    "\n",
    "# print(x_train[1])\n",
    "# print(y_train.shape)\n",
    "# print(y_train[1])\n",
    "# print(w)\n",
    "\n",
    "for x in range(1000):\n",
    "    params = svg(x_train, y_train, w, b, 0.1)\n",
    "    w = params['w']\n",
    "    b = params['b']\n",
    "\n",
    "print(w)\n",
    "print(b)"
   ]
  },
  {
   "cell_type": "code",
   "execution_count": 147,
   "metadata": {},
   "outputs": [
    {
     "name": "stdout",
     "output_type": "stream",
     "text": [
      "[ 0.  0.  0.  0.  0.  0.  0.  0.  0.  0.]\n",
      "2.0\n",
      "10\n"
     ]
    },
    {
     "data": {
      "image/png": "[encoded data removed]",
      "text/plain": [
       "<matplotlib.figure.Figure at 0x8799ba8>"
      ]
     },
     "metadata": {},
     "output_type": "display_data"
    }
   ],
   "source": [
    "plt.plot(x_train.T[0], x_train.T[1], 'ro')\n",
    "y_hp = np.zeros(10)\n",
    "print(y_hp)\n",
    "print(x_train.T[0][6])\n",
    "print(x_train.shape[0])\n",
    "for i in range(x_train.shape[0]):\n",
    "    y_hp[i] = (x_train.T[0][i]*w[0][0]+b)/w[0][1]*-1\n",
    "\n",
    "plt.plot(x_train.T[0], y_hp)\n",
    "plt.show()"
   ]
  },
  {
   "cell_type": "code",
   "execution_count": null,
   "metadata": {
    "collapsed": true
   },
   "outputs": [],
   "source": []
  }
 ],
 "metadata": {
  "kernelspec": {
   "display_name": "Python 3",
   "language": "python",
   "name": "python3"
  },
  "language_info": {
   "codemirror_mode": {
    "name": "ipython",
    "version": 3
   },
   "file_extension": ".py",
   "mimetype": "text/x-python",
   "name": "python",
   "nbconvert_exporter": "python",
   "pygments_lexer": "ipython3",
   "version": "3.6.1"
  }
 },
 "nbformat": 4,
 "nbformat_minor": 2
}
