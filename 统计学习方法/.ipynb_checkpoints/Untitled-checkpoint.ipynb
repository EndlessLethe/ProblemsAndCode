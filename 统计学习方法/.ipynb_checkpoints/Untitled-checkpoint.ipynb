{
 "cells": [
  {
   "cell_type": "markdown",
   "metadata": {},
   "source": [
    "感知机算法用于计算得到划分可二分数据集的超平面S。\n",
    "\n",
    "我们定义优化函数为损失函数：\n",
    "L=误分类点到超平面S的距离和\n",
    "\n",
    "\\\\(d = \\frac{1}{{\\left\\| w \\right\\|}}|w \\bullet {x_i} + b|\\\\)\n",
    "\n",
    "\\\\(L =  - \\sum\\limits_N {{y_i}} (w \\bullet {x_i} + b)\\\\)\n",
    "\n",
    "采用随机梯度下降算法\n",
    "\n",
    "\\\\(\\frac{{dL}}{{dw}} =  - \\sum\\limits_N {{y_i}} {x_i}\\\\)\n",
    "\n",
    "故对于每一个误分类点\n",
    "\n",
    "\\\\(w = w + \\eta {y_i}{x_i}\\\\)\n"
   ]
  },
  {
   "cell_type": "markdown",
   "metadata": {},
   "source": [
    "算法流程：\n",
    "输入：w, b；f(x)=sign(wx+b)\n",
    "1. 选取初值w0, b0\n",
    "2. 随机选取数据(xi, yi)\n",
    "3. 如果为误分类点，则更新"
   ]
  },
  {
   "cell_type": "code",
   "execution_count": 9,
   "metadata": {
    "collapsed": true
   },
   "outputs": [],
   "source": [
    "import numpy as np\n",
    "import matplotlib.pyplot as plt\n",
    "\n",
    "np.random.seed(1)"
   ]
  },
  {
   "cell_type": "code",
   "execution_count": 10,
   "metadata": {},
   "outputs": [],
   "source": [
    "def sign(x):\n",
    "    if x > 0:\n",
    "        return 1;\n",
    "    return -1"
   ]
  },
  {
   "cell_type": "code",
   "execution_count": null,
   "metadata": {
    "collapsed": true
   },
   "outputs": [],
   "source": [
    "def svg(x, y, w, b, learning_rate):\n",
    "    i = Math.random(0, w.shape)\n",
    "    if y[i] * (w * x[i] + b):\n",
    "        w = w + learning_rate * x[i] * y[i]\n",
    "        b = b + learning_rate * y[i]"
   ]
  },
  {
   "cell_type": "code",
   "execution_count": null,
   "metadata": {
    "collapsed": true
   },
   "outputs": [],
   "source": [
    "def predict()"
   ]
  },
  {
   "cell_type": "code",
   "execution_count": null,
   "metadata": {
    "collapsed": true
   },
   "outputs": [],
   "source": [
    "w = np.zeros((2, 1))\n",
    "b = 0\n",
    "x = numpy.array((-1, 1), (-2, 0), (-1, 0), (-0.5, 0.5), (0, 0.5)\n",
    "               (1, 3), (2, 3), (1, 1), (1, -0.5), (1, 0))\n",
    "y = numpy.array(1, 1, 1, 1, 1, -1, -1, -1, -1, -1)"
   ]
  }
 ],
 "metadata": {
  "kernelspec": {
   "display_name": "Python 3",
   "language": "python",
   "name": "python3"
  },
  "language_info": {
   "codemirror_mode": {
    "name": "ipython",
    "version": 3
   },
   "file_extension": ".py",
   "mimetype": "text/x-python",
   "name": "python",
   "nbconvert_exporter": "python",
   "pygments_lexer": "ipython3",
   "version": "3.6.1"
  }
 },
 "nbformat": 4,
 "nbformat_minor": 2
}
